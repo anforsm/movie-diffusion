{
 "cells": [
  {
   "cell_type": "code",
   "execution_count": 1,
   "metadata": {},
   "outputs": [
    {
     "name": "stderr",
     "output_type": "stream",
     "text": [
      "/Users/anton/opt/miniconda3/envs/movie-diffusion/lib/python3.11/site-packages/tqdm/auto.py:21: TqdmWarning: IProgress not found. Please update jupyter and ipywidgets. See https://ipywidgets.readthedocs.io/en/stable/user_install.html\n",
      "  from .autonotebook import tqdm as notebook_tqdm\n"
     ]
    }
   ],
   "source": [
    "import datasets"
   ]
  },
  {
   "cell_type": "code",
   "execution_count": 2,
   "metadata": {},
   "outputs": [
    {
     "name": "stderr",
     "output_type": "stream",
     "text": [
      "Downloading readme: 100%|██████████| 594/594 [00:00<00:00, 1.04MB/s]\n",
      "Resolving data files: 100%|██████████| 47/47 [00:00<00:00, 144.53it/s]\n",
      "Resolving data files: 100%|██████████| 47/47 [00:00<00:00, 411549.66it/s]\n",
      "Downloading data: 100%|██████████| 452M/452M [00:38<00:00, 11.8MB/s]\n",
      "Downloading data: 100%|██████████| 460M/460M [00:37<00:00, 12.2MB/s]\n",
      "Downloading data: 100%|██████████| 462M/462M [00:44<00:00, 10.4MB/s]\n",
      "Downloading data: 100%|██████████| 456M/456M [00:40<00:00, 11.3MB/s]\n",
      "Downloading data: 100%|██████████| 464M/464M [00:44<00:00, 10.3MB/s]\n",
      "Downloading data: 100%|██████████| 465M/465M [00:52<00:00, 8.91MB/s]\n",
      "Downloading data: 100%|██████████| 464M/464M [00:38<00:00, 12.2MB/s]\n",
      "Downloading data: 100%|██████████| 467M/467M [00:46<00:00, 10.1MB/s]\n",
      "Downloading data: 100%|██████████| 465M/465M [00:44<00:00, 10.5MB/s]\n",
      "Downloading data: 100%|██████████| 469M/469M [00:45<00:00, 10.3MB/s]\n",
      "Downloading data: 100%|██████████| 466M/466M [00:41<00:00, 11.3MB/s]\n",
      "Downloading data: 100%|██████████| 467M/467M [00:40<00:00, 11.6MB/s]\n",
      "Downloading data: 100%|██████████| 467M/467M [00:39<00:00, 11.7MB/s]\n",
      "Downloading data: 100%|██████████| 463M/463M [00:40<00:00, 11.6MB/s]\n",
      "Downloading data: 100%|██████████| 467M/467M [00:39<00:00, 11.9MB/s]\n",
      "Downloading data: 100%|██████████| 469M/469M [00:42<00:00, 11.1MB/s]\n",
      "Downloading data: 100%|██████████| 468M/468M [00:40<00:00, 11.6MB/s]\n",
      "Downloading data: 100%|██████████| 470M/470M [00:47<00:00, 9.82MB/s]\n",
      "Downloading data: 100%|██████████| 470M/470M [00:43<00:00, 10.7MB/s]\n",
      "Downloading data: 100%|██████████| 475M/475M [00:45<00:00, 10.4MB/s]\n",
      "Downloading data: 100%|██████████| 468M/468M [00:43<00:00, 10.9MB/s]\n",
      "Downloading data: 100%|██████████| 472M/472M [00:39<00:00, 12.1MB/s]\n",
      "Downloading data: 100%|██████████| 473M/473M [00:42<00:00, 11.2MB/s]\n",
      "Downloading data: 100%|██████████| 470M/470M [00:44<00:00, 10.7MB/s]\n",
      "Downloading data: 100%|██████████| 471M/471M [00:41<00:00, 11.4MB/s]\n",
      "Downloading data: 100%|██████████| 474M/474M [00:44<00:00, 10.7MB/s]\n",
      "Downloading data: 100%|██████████| 471M/471M [00:42<00:00, 11.1MB/s]\n",
      "Downloading data: 100%|██████████| 469M/469M [00:43<00:00, 10.9MB/s]\n",
      "Downloading data: 100%|██████████| 472M/472M [00:44<00:00, 10.7MB/s]\n",
      "Downloading data: 100%|██████████| 470M/470M [00:42<00:00, 11.0MB/s]\n",
      "Downloading data: 100%|██████████| 472M/472M [00:41<00:00, 11.4MB/s]\n",
      "Downloading data: 100%|██████████| 470M/470M [00:41<00:00, 11.3MB/s]\n",
      "Downloading data: 100%|██████████| 472M/472M [00:38<00:00, 12.2MB/s]\n",
      "Downloading data: 100%|██████████| 472M/472M [00:38<00:00, 12.4MB/s]\n",
      "Downloading data: 100%|██████████| 470M/470M [00:41<00:00, 11.4MB/s]\n",
      "Downloading data: 100%|██████████| 470M/470M [00:38<00:00, 12.1MB/s]\n",
      "Downloading data: 100%|██████████| 469M/469M [00:44<00:00, 10.5MB/s]\n",
      "Downloading data: 100%|██████████| 472M/472M [00:45<00:00, 10.4MB/s]\n",
      "Downloading data: 100%|██████████| 468M/468M [00:44<00:00, 10.4MB/s]\n",
      "Downloading data: 100%|██████████| 467M/467M [00:46<00:00, 10.0MB/s]\n",
      "Downloading data: 100%|██████████| 474M/474M [00:43<00:00, 11.0MB/s]\n",
      "Downloading data: 100%|██████████| 473M/473M [00:43<00:00, 10.8MB/s]\n",
      "Downloading data: 100%|██████████| 472M/472M [00:39<00:00, 12.1MB/s]\n",
      "Downloading data: 100%|██████████| 471M/471M [00:40<00:00, 11.6MB/s]\n",
      "Downloading data: 100%|██████████| 470M/470M [00:41<00:00, 11.4MB/s]\n",
      "Downloading data: 100%|██████████| 475M/475M [00:48<00:00, 9.83MB/s]\n",
      "Downloading data: 100%|██████████| 475M/475M [00:45<00:00, 10.4MB/s]\n",
      "Downloading data files: 100%|██████████| 1/1 [33:22<00:00, 2002.94s/it]\n",
      "Extracting data files: 100%|██████████| 1/1 [00:00<00:00, 21.47it/s]\n",
      "Generating train split: 100%|██████████| 79352/79352 [01:15<00:00, 1046.45 examples/s]\n"
     ]
    }
   ],
   "source": [
    "ds = datasets.load_dataset(\"skvarre/movie_posters-genres-80k-torchvision-transforms\")"
   ]
  },
  {
   "cell_type": "code",
   "execution_count": 3,
   "metadata": {},
   "outputs": [],
   "source": [
    "# take 10% random samples, and put into separate val split\n",
    "ds = ds[\"train\"].train_test_split(test_size=1000, seed=42)\n",
    "# upload to huggingface\n",
    "#ds[\"train\"].save_to_disk(\"train\")\n",
    "#ds[\"test\"].save_to_disk(\"val\")\n",
    "#ds.push_to_hub(\"anforsm/movie_posters-100k-torchvision\")"
   ]
  },
  {
   "cell_type": "code",
   "execution_count": 5,
   "metadata": {},
   "outputs": [
    {
     "name": "stderr",
     "output_type": "stream",
     "text": [
      "Creating parquet from Arrow format: 100%|██████████| 2/2 [00:03<00:00,  1.70s/ba]\n",
      "Creating parquet from Arrow format: 100%|██████████| 2/2 [00:02<00:00,  1.47s/ba].78s/it]\n",
      "Creating parquet from Arrow format: 100%|██████████| 2/2 [00:02<00:00,  1.49s/ba].04s/it]\n",
      "Creating parquet from Arrow format: 100%|██████████| 2/2 [00:02<00:00,  1.39s/ba].64s/it]\n",
      "Creating parquet from Arrow format: 100%|██████████| 2/2 [00:02<00:00,  1.38s/ba].22s/it]\n",
      "Creating parquet from Arrow format: 100%|██████████| 2/2 [00:02<00:00,  1.20s/ba].38s/it]\n",
      "Creating parquet from Arrow format: 100%|██████████| 2/2 [00:02<00:00,  1.35s/ba].88s/it]\n",
      "Creating parquet from Arrow format: 100%|██████████| 2/2 [00:02<00:00,  1.39s/ba].89s/it]\n",
      "Creating parquet from Arrow format: 100%|██████████| 2/2 [00:02<00:00,  1.40s/ba].50s/it]\n",
      "Creating parquet from Arrow format: 100%|██████████| 2/2 [00:02<00:00,  1.42s/ba].84s/it]\n",
      "Creating parquet from Arrow format: 100%|██████████| 2/2 [00:02<00:00,  1.40s/ba]3.96s/it]\n",
      "Creating parquet from Arrow format: 100%|██████████| 2/2 [00:02<00:00,  1.41s/ba]3.25s/it]\n",
      "Creating parquet from Arrow format: 100%|██████████| 2/2 [00:02<00:00,  1.40s/ba]4.38s/it]\n",
      "Creating parquet from Arrow format: 100%|██████████| 2/2 [00:02<00:00,  1.39s/ba]4.47s/it]\n",
      "Creating parquet from Arrow format: 100%|██████████| 2/2 [00:02<00:00,  1.40s/ba]4.13s/it]\n",
      "Creating parquet from Arrow format: 100%|██████████| 2/2 [00:02<00:00,  1.35s/ba]3.77s/it]\n",
      "Creating parquet from Arrow format: 100%|██████████| 2/2 [00:02<00:00,  1.37s/ba]3.53s/it]\n",
      "Creating parquet from Arrow format: 100%|██████████| 2/2 [00:02<00:00,  1.40s/ba]3.33s/it]\n",
      "Creating parquet from Arrow format: 100%|██████████| 2/2 [00:02<00:00,  1.38s/ba]3.69s/it]\n",
      "Creating parquet from Arrow format: 100%|██████████| 2/2 [00:02<00:00,  1.39s/ba]3.05s/it]\n",
      "Creating parquet from Arrow format: 100%|██████████| 2/2 [00:02<00:00,  1.41s/ba]3.28s/it]\n",
      "Creating parquet from Arrow format: 100%|██████████| 2/2 [00:02<00:00,  1.22s/ba]3.34s/it]\n",
      "Creating parquet from Arrow format: 100%|██████████| 2/2 [00:02<00:00,  1.37s/ba]3.18s/it]\n",
      "Creating parquet from Arrow format: 100%|██████████| 2/2 [00:02<00:00,  1.38s/ba]3.11s/it]\n",
      "Creating parquet from Arrow format: 100%|██████████| 2/2 [00:02<00:00,  1.36s/ba]2.95s/it]\n",
      "Creating parquet from Arrow format: 100%|██████████| 2/2 [00:04<00:00,  2.02s/ba]3.50s/it]\n",
      "Creating parquet from Arrow format: 100%|██████████| 2/2 [00:02<00:00,  1.44s/ba]4.37s/it]\n",
      "Creating parquet from Arrow format: 100%|██████████| 2/2 [00:02<00:00,  1.42s/ba]4.01s/it]\n",
      "Creating parquet from Arrow format: 100%|██████████| 2/2 [00:02<00:00,  1.37s/ba]3.61s/it]\n",
      "Creating parquet from Arrow format: 100%|██████████| 2/2 [00:03<00:00,  1.55s/ba]3.41s/it]\n",
      "Creating parquet from Arrow format: 100%|██████████| 2/2 [00:03<00:00,  1.59s/ba]3.31s/it]\n",
      "Creating parquet from Arrow format: 100%|██████████| 2/2 [00:03<00:00,  1.50s/ba]3.97s/it]\n",
      "Creating parquet from Arrow format: 100%|██████████| 2/2 [00:02<00:00,  1.20s/ba]4.67s/it]\n",
      "Creating parquet from Arrow format: 100%|██████████| 2/2 [00:03<00:00,  1.56s/ba]4.75s/it]\n",
      "Creating parquet from Arrow format: 100%|██████████| 2/2 [00:03<00:00,  1.60s/ba]4.40s/it]\n",
      "Creating parquet from Arrow format: 100%|██████████| 2/2 [00:03<00:00,  1.60s/ba]4.18s/it]\n",
      "Creating parquet from Arrow format: 100%|██████████| 2/2 [00:03<00:00,  1.57s/ba]3.59s/it]\n",
      "Creating parquet from Arrow format: 100%|██████████| 2/2 [00:03<00:00,  1.78s/ba]3.77s/it]\n",
      "Creating parquet from Arrow format: 100%|██████████| 2/2 [00:02<00:00,  1.28s/ba]3.51s/it]\n",
      "Creating parquet from Arrow format: 100%|██████████| 2/2 [00:02<00:00,  1.49s/ba]2.85s/it]\n",
      "Creating parquet from Arrow format: 100%|██████████| 2/2 [00:03<00:00,  1.56s/ba]2.45s/it]\n",
      "Creating parquet from Arrow format: 100%|██████████| 2/2 [00:03<00:00,  1.61s/ba]2.83s/it]\n",
      "Creating parquet from Arrow format: 100%|██████████| 2/2 [00:02<00:00,  1.36s/ba]3.24s/it]\n",
      "Creating parquet from Arrow format: 100%|██████████| 2/2 [00:03<00:00,  1.53s/ba]3.73s/it]\n",
      "Creating parquet from Arrow format: 100%|██████████| 2/2 [00:03<00:00,  1.58s/ba]3.78s/it]\n",
      "Creating parquet from Arrow format: 100%|██████████| 2/2 [00:03<00:00,  1.58s/ba]3.93s/it]\n",
      "Creating parquet from Arrow format: 100%|██████████| 2/2 [00:03<00:00,  1.50s/ba]4.18s/it]\n",
      "Pushing dataset shards to the dataset hub: 100%|██████████| 47/47 [18:34<00:00, 23.72s/it]\n",
      "Creating parquet from Arrow format: 100%|██████████| 1/1 [00:01<00:00,  1.64s/ba]\n",
      "Pushing dataset shards to the dataset hub: 100%|██████████| 1/1 [00:15<00:00, 15.37s/it]\n"
     ]
    }
   ],
   "source": [
    "ds.push_to_hub(\"anforsm/movie_posters-genres-80k-transformed\")"
   ]
  }
 ],
 "metadata": {
  "kernelspec": {
   "display_name": "movie-diffusion",
   "language": "python",
   "name": "python3"
  },
  "language_info": {
   "codemirror_mode": {
    "name": "ipython",
    "version": 3
   },
   "file_extension": ".py",
   "mimetype": "text/x-python",
   "name": "python",
   "nbconvert_exporter": "python",
   "pygments_lexer": "ipython3",
   "version": "3.11.5"
  }
 },
 "nbformat": 4,
 "nbformat_minor": 2
}
