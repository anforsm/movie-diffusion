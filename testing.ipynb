{
 "cells": [
  {
   "cell_type": "code",
   "execution_count": 167,
   "metadata": {},
   "outputs": [
    {
     "name": "stdout",
     "output_type": "stream",
     "text": [
      "The autoreload extension is already loaded. To reload it, use:\n",
      "  %reload_ext autoreload\n"
     ]
    }
   ],
   "source": [
    "%load_ext autoreload\n",
    "%autoreload 2\n",
    "import sys\n",
    "sys.path.append(\"model/\")\n",
    "from diffusion import GaussianDiffusion, DiffusionImageAPI\n",
    "import torch\n",
    "import numpy as np\n",
    "from IPython.display import display\n",
    "import matplotlib.pyplot as plt\n"
   ]
  },
  {
   "cell_type": "code",
   "execution_count": 168,
   "metadata": {},
   "outputs": [
    {
     "name": "stdout",
     "output_type": "stream",
     "text": [
      "[80x120]\n"
     ]
    }
   ],
   "source": [
    "from PIL import Image\n",
    "import requests\n",
    "\n",
    "url = \"https://www.themoviedb.org/t/p/w1280/6oom5QYQ2yQTMJIbnvbkBL9cHo6.jpg\"\n",
    "image = Image.open(requests.get(url, stream=True).raw)\n",
    "w, h = image.size\n",
    "image = image.resize((w // 16, h // 16))\n",
    "#image = image.resize((16, 16))\n",
    "w, h = image.size\n",
    "print(f\"[{w}x{h}]\")\n",
    "image\n",
    "image.save(\"./test.jpg\")\n"
   ]
  },
  {
   "cell_type": "code",
   "execution_count": 174,
   "metadata": {},
   "outputs": [],
   "source": [
    "diffusion = GaussianDiffusion(\n",
    "  model=None,\n",
    "  noise_steps=256,\n",
    "  beta_0=1e-4,\n",
    "  beta_T=0.02,\n",
    "  image_size=(w, h),\n",
    "  schedule=\"linear\"\n",
    ")"
   ]
  },
  {
   "cell_type": "code",
   "execution_count": 187,
   "metadata": {},
   "outputs": [
    {
     "name": "stdout",
     "output_type": "stream",
     "text": [
      "[  0   1   2   3   4   5   6   7   8   9  10  11  12  13  14  15  16  17\n",
      "  18  19  20  21  22  23  24  25  26  27  28  29  30  31  32  33  34  35\n",
      "  36  37  38  39  40  41  42  43  44  45  46  47  48  49  50  51  52  53\n",
      "  54  55  56  57  58  59  60  61  62  63  64  65  66  67  68  69  70  71\n",
      "  72  73  74  75  76  77  78  79  80  81  82  83  84  85  86  87  88  89\n",
      "  90  91  92  93  94  95  96  97  98  99 100 101 102 103 104 105 106 107\n",
      " 108 109 110 111 112 113 114 115 116 117 118 119 120 121 122 123 124 125\n",
      " 126 127 128 129 130 131 132 133 134 135 136 137 138 139 140 141 142 143\n",
      " 144 145 146 147 148 149 150 151 152 153 154 155 156 157 158 159 160 161\n",
      " 162 163 164 165 166 167 168 169 170 171 172 173 174 175 176 177 178 179\n",
      " 180 181 182 183 184 185 186 187 188 189 190 191 192 193 194 195 196 197\n",
      " 198 199 200 201 202 203 204 205 206 207 208 209 210 211 212 213 214 215\n",
      " 216 217 218 219 220 221 222 223 224 225 226 227 228 229 230 231 232 233\n",
      " 234 235 236 237 238 239 240 241 242 243 244 245 246 247 248 249 250 251\n",
      " 252 253 255]\n",
      "[<PIL.Image.Image image mode=RGB size=80x120 at 0x1497E71D0>, <PIL.Image.Image image mode=RGB size=80x120 at 0x14BA11450>, <PIL.Image.Image image mode=RGB size=80x120 at 0x14BAE7090>, <PIL.Image.Image image mode=RGB size=80x120 at 0x14BAE58D0>, <PIL.Image.Image image mode=RGB size=80x120 at 0x14BAE7850>, <PIL.Image.Image image mode=RGB size=80x120 at 0x14BAE72D0>, <PIL.Image.Image image mode=RGB size=80x120 at 0x14BAE69D0>, <PIL.Image.Image image mode=RGB size=80x120 at 0x14BAE6B90>, <PIL.Image.Image image mode=RGB size=80x120 at 0x1495C6E50>, <PIL.Image.Image image mode=RGB size=80x120 at 0x14B805210>, <PIL.Image.Image image mode=RGB size=80x120 at 0x14BAE7410>, <PIL.Image.Image image mode=RGB size=80x120 at 0x14B9D6850>, <PIL.Image.Image image mode=RGB size=80x120 at 0x14BAF4350>, <PIL.Image.Image image mode=RGB size=80x120 at 0x14BAF4450>, <PIL.Image.Image image mode=RGB size=80x120 at 0x14BAF4510>, <PIL.Image.Image image mode=RGB size=80x120 at 0x14BAF4610>, <PIL.Image.Image image mode=RGB size=80x120 at 0x14BAF46D0>, <PIL.Image.Image image mode=RGB size=80x120 at 0x14BAF47D0>, <PIL.Image.Image image mode=RGB size=80x120 at 0x14BAF48D0>, <PIL.Image.Image image mode=RGB size=80x120 at 0x14BAF4990>, <PIL.Image.Image image mode=RGB size=80x120 at 0x14B43C650>, <PIL.Image.Image image mode=RGB size=80x120 at 0x14BAF4AD0>, <PIL.Image.Image image mode=RGB size=80x120 at 0x14BAF4C10>, <PIL.Image.Image image mode=RGB size=80x120 at 0x14BAF4D10>, <PIL.Image.Image image mode=RGB size=80x120 at 0x14BAF4DD0>, <PIL.Image.Image image mode=RGB size=80x120 at 0x14BAF4ED0>, <PIL.Image.Image image mode=RGB size=80x120 at 0x14BAF4F90>, <PIL.Image.Image image mode=RGB size=80x120 at 0x14BAF4A50>, <PIL.Image.Image image mode=RGB size=80x120 at 0x14B4D4E90>, <PIL.Image.Image image mode=RGB size=80x120 at 0x14BAF5110>, <PIL.Image.Image image mode=RGB size=80x120 at 0x14A1B3090>, <PIL.Image.Image image mode=RGB size=80x120 at 0x14BAF5250>, <PIL.Image.Image image mode=RGB size=80x120 at 0x14BAF5310>, <PIL.Image.Image image mode=RGB size=80x120 at 0x14BAF53D0>, <PIL.Image.Image image mode=RGB size=80x120 at 0x14A065210>, <PIL.Image.Image image mode=RGB size=80x120 at 0x14BAF5510>, <PIL.Image.Image image mode=RGB size=80x120 at 0x14B92ABD0>, <PIL.Image.Image image mode=RGB size=80x120 at 0x14BAF5650>, <PIL.Image.Image image mode=RGB size=80x120 at 0x14B1943D0>, <PIL.Image.Image image mode=RGB size=80x120 at 0x14BAF5750>, <PIL.Image.Image image mode=RGB size=80x120 at 0x14BAF5850>, <PIL.Image.Image image mode=RGB size=80x120 at 0x14B7E5810>, <PIL.Image.Image image mode=RGB size=80x120 at 0x14BAF59D0>, <PIL.Image.Image image mode=RGB size=80x120 at 0x14BAF5AD0>, <PIL.Image.Image image mode=RGB size=80x120 at 0x14BAE5A90>, <PIL.Image.Image image mode=RGB size=80x120 at 0x14BA7E510>, <PIL.Image.Image image mode=RGB size=80x120 at 0x14B7AB850>, <PIL.Image.Image image mode=RGB size=80x120 at 0x14BAF5D10>, <PIL.Image.Image image mode=RGB size=80x120 at 0x14BAF5DD0>, <PIL.Image.Image image mode=RGB size=80x120 at 0x14BAF5E90>, <PIL.Image.Image image mode=RGB size=80x120 at 0x14BAD9ED0>, <PIL.Image.Image image mode=RGB size=80x120 at 0x14BABD450>, <PIL.Image.Image image mode=RGB size=80x120 at 0x14B928B50>, <PIL.Image.Image image mode=RGB size=80x120 at 0x14948B990>, <PIL.Image.Image image mode=RGB size=80x120 at 0x14B90ED90>, <PIL.Image.Image image mode=RGB size=80x120 at 0x14BAF6050>, <PIL.Image.Image image mode=RGB size=80x120 at 0x14BAF6110>, <PIL.Image.Image image mode=RGB size=80x120 at 0x14B98FD10>, <PIL.Image.Image image mode=RGB size=80x120 at 0x14BAF6250>, <PIL.Image.Image image mode=RGB size=80x120 at 0x14BAF6310>, <PIL.Image.Image image mode=RGB size=80x120 at 0x14BAF63D0>, <PIL.Image.Image image mode=RGB size=80x120 at 0x14BAF64D0>, <PIL.Image.Image image mode=RGB size=80x120 at 0x14BAF6590>, <PIL.Image.Image image mode=RGB size=80x120 at 0x14BAF6650>, <PIL.Image.Image image mode=RGB size=80x120 at 0x14BAF6710>, <PIL.Image.Image image mode=RGB size=80x120 at 0x14BAF67D0>, <PIL.Image.Image image mode=RGB size=80x120 at 0x14BAF68D0>, <PIL.Image.Image image mode=RGB size=80x120 at 0x14BAF6990>, <PIL.Image.Image image mode=RGB size=80x120 at 0x14BAF6A50>, <PIL.Image.Image image mode=RGB size=80x120 at 0x14BAF6B10>, <PIL.Image.Image image mode=RGB size=80x120 at 0x14BAF6BD0>, <PIL.Image.Image image mode=RGB size=80x120 at 0x14BAF6C90>, <PIL.Image.Image image mode=RGB size=80x120 at 0x14BAF6D50>, <PIL.Image.Image image mode=RGB size=80x120 at 0x14BAF6E10>, <PIL.Image.Image image mode=RGB size=80x120 at 0x14BAF6ED0>, <PIL.Image.Image image mode=RGB size=80x120 at 0x14BAF6F90>, <PIL.Image.Image image mode=RGB size=80x120 at 0x14BAF7050>, <PIL.Image.Image image mode=RGB size=80x120 at 0x14BAF7110>, <PIL.Image.Image image mode=RGB size=80x120 at 0x14BAF71D0>, <PIL.Image.Image image mode=RGB size=80x120 at 0x14BAF7290>, <PIL.Image.Image image mode=RGB size=80x120 at 0x14BAF7350>, <PIL.Image.Image image mode=RGB size=80x120 at 0x14BAF7410>, <PIL.Image.Image image mode=RGB size=80x120 at 0x14BAF74D0>, <PIL.Image.Image image mode=RGB size=80x120 at 0x14BAF7590>, <PIL.Image.Image image mode=RGB size=80x120 at 0x14BAF7650>, <PIL.Image.Image image mode=RGB size=80x120 at 0x14BAF7710>, <PIL.Image.Image image mode=RGB size=80x120 at 0x14BAF77D0>, <PIL.Image.Image image mode=RGB size=80x120 at 0x14BAF7890>, <PIL.Image.Image image mode=RGB size=80x120 at 0x14BAF7950>, <PIL.Image.Image image mode=RGB size=80x120 at 0x14BAF7A10>, <PIL.Image.Image image mode=RGB size=80x120 at 0x14BAF7AD0>, <PIL.Image.Image image mode=RGB size=80x120 at 0x14BAF7B90>, <PIL.Image.Image image mode=RGB size=80x120 at 0x14BAF7C50>, <PIL.Image.Image image mode=RGB size=80x120 at 0x14BAF7D10>, <PIL.Image.Image image mode=RGB size=80x120 at 0x14BAF7DD0>, <PIL.Image.Image image mode=RGB size=80x120 at 0x14BAF7E90>, <PIL.Image.Image image mode=RGB size=80x120 at 0x14BAF7F50>, <PIL.Image.Image image mode=RGB size=80x120 at 0x14BAF8050>, <PIL.Image.Image image mode=RGB size=80x120 at 0x14BAF8110>, <PIL.Image.Image image mode=RGB size=80x120 at 0x14BAF81D0>, <PIL.Image.Image image mode=RGB size=80x120 at 0x14BAF8290>, <PIL.Image.Image image mode=RGB size=80x120 at 0x14BAF8350>, <PIL.Image.Image image mode=RGB size=80x120 at 0x14BAF8410>, <PIL.Image.Image image mode=RGB size=80x120 at 0x14BAF84D0>, <PIL.Image.Image image mode=RGB size=80x120 at 0x14BAF8590>, <PIL.Image.Image image mode=RGB size=80x120 at 0x14BAF8650>, <PIL.Image.Image image mode=RGB size=80x120 at 0x14BAF8710>, <PIL.Image.Image image mode=RGB size=80x120 at 0x14BAF87D0>, <PIL.Image.Image image mode=RGB size=80x120 at 0x14BAF8890>, <PIL.Image.Image image mode=RGB size=80x120 at 0x14BAF8950>, <PIL.Image.Image image mode=RGB size=80x120 at 0x14BAF8A10>, <PIL.Image.Image image mode=RGB size=80x120 at 0x14BAF8AD0>, <PIL.Image.Image image mode=RGB size=80x120 at 0x14BAF8B90>, <PIL.Image.Image image mode=RGB size=80x120 at 0x14BAF8C50>, <PIL.Image.Image image mode=RGB size=80x120 at 0x14BAF8D10>, <PIL.Image.Image image mode=RGB size=80x120 at 0x14BAF8DD0>, <PIL.Image.Image image mode=RGB size=80x120 at 0x14BAF8E90>, <PIL.Image.Image image mode=RGB size=80x120 at 0x14BAF8F50>, <PIL.Image.Image image mode=RGB size=80x120 at 0x14BAF9010>, <PIL.Image.Image image mode=RGB size=80x120 at 0x14BAF90D0>, <PIL.Image.Image image mode=RGB size=80x120 at 0x14BAF9190>, <PIL.Image.Image image mode=RGB size=80x120 at 0x14BAF9250>, <PIL.Image.Image image mode=RGB size=80x120 at 0x14BAF9310>, <PIL.Image.Image image mode=RGB size=80x120 at 0x14BAF93D0>, <PIL.Image.Image image mode=RGB size=80x120 at 0x14BAF9490>, <PIL.Image.Image image mode=RGB size=80x120 at 0x14BAF9550>, <PIL.Image.Image image mode=RGB size=80x120 at 0x14BAF9610>, <PIL.Image.Image image mode=RGB size=80x120 at 0x14BAF96D0>, <PIL.Image.Image image mode=RGB size=80x120 at 0x14BAF9790>, <PIL.Image.Image image mode=RGB size=80x120 at 0x14BAF9850>, <PIL.Image.Image image mode=RGB size=80x120 at 0x14BAF9910>, <PIL.Image.Image image mode=RGB size=80x120 at 0x14BAF99D0>, <PIL.Image.Image image mode=RGB size=80x120 at 0x14BAF9A90>, <PIL.Image.Image image mode=RGB size=80x120 at 0x14BAF9B50>, <PIL.Image.Image image mode=RGB size=80x120 at 0x14BAF9C10>, <PIL.Image.Image image mode=RGB size=80x120 at 0x14BAF9CD0>, <PIL.Image.Image image mode=RGB size=80x120 at 0x14BAF9D90>, <PIL.Image.Image image mode=RGB size=80x120 at 0x14BAF9E50>, <PIL.Image.Image image mode=RGB size=80x120 at 0x14BAF9F10>, <PIL.Image.Image image mode=RGB size=80x120 at 0x14BAF9FD0>, <PIL.Image.Image image mode=RGB size=80x120 at 0x14BAFA090>, <PIL.Image.Image image mode=RGB size=80x120 at 0x14BAFA150>, <PIL.Image.Image image mode=RGB size=80x120 at 0x14BAFA210>, <PIL.Image.Image image mode=RGB size=80x120 at 0x14BAFA2D0>, <PIL.Image.Image image mode=RGB size=80x120 at 0x14BAFA390>, <PIL.Image.Image image mode=RGB size=80x120 at 0x14BAFA450>, <PIL.Image.Image image mode=RGB size=80x120 at 0x14BAFA510>, <PIL.Image.Image image mode=RGB size=80x120 at 0x14BAFA5D0>, <PIL.Image.Image image mode=RGB size=80x120 at 0x14BAFA690>, <PIL.Image.Image image mode=RGB size=80x120 at 0x14BAFA750>, <PIL.Image.Image image mode=RGB size=80x120 at 0x14BAFA810>, <PIL.Image.Image image mode=RGB size=80x120 at 0x14BAFA8D0>, <PIL.Image.Image image mode=RGB size=80x120 at 0x14BAFA990>, <PIL.Image.Image image mode=RGB size=80x120 at 0x14BAFAA50>, <PIL.Image.Image image mode=RGB size=80x120 at 0x14BAFAB10>, <PIL.Image.Image image mode=RGB size=80x120 at 0x14BAFABD0>, <PIL.Image.Image image mode=RGB size=80x120 at 0x14BAFAC90>, <PIL.Image.Image image mode=RGB size=80x120 at 0x14BAFAD50>, <PIL.Image.Image image mode=RGB size=80x120 at 0x14BAFAE10>, <PIL.Image.Image image mode=RGB size=80x120 at 0x14BAFAED0>, <PIL.Image.Image image mode=RGB size=80x120 at 0x14BAFAF90>, <PIL.Image.Image image mode=RGB size=80x120 at 0x14BAFB050>, <PIL.Image.Image image mode=RGB size=80x120 at 0x14BAFB110>, <PIL.Image.Image image mode=RGB size=80x120 at 0x14BAFB1D0>, <PIL.Image.Image image mode=RGB size=80x120 at 0x14BAFB290>, <PIL.Image.Image image mode=RGB size=80x120 at 0x14BAFB350>, <PIL.Image.Image image mode=RGB size=80x120 at 0x14BAFB410>, <PIL.Image.Image image mode=RGB size=80x120 at 0x14BAFB4D0>, <PIL.Image.Image image mode=RGB size=80x120 at 0x14BAFB590>, <PIL.Image.Image image mode=RGB size=80x120 at 0x14BAFB650>, <PIL.Image.Image image mode=RGB size=80x120 at 0x14BAFB710>, <PIL.Image.Image image mode=RGB size=80x120 at 0x14BAFB7D0>, <PIL.Image.Image image mode=RGB size=80x120 at 0x14BAFB890>, <PIL.Image.Image image mode=RGB size=80x120 at 0x14BAFB950>, <PIL.Image.Image image mode=RGB size=80x120 at 0x14BAFBA10>, <PIL.Image.Image image mode=RGB size=80x120 at 0x14BAFBAD0>, <PIL.Image.Image image mode=RGB size=80x120 at 0x14BAFBB90>, <PIL.Image.Image image mode=RGB size=80x120 at 0x14BAFBC50>, <PIL.Image.Image image mode=RGB size=80x120 at 0x14BAFBD10>, <PIL.Image.Image image mode=RGB size=80x120 at 0x14BAFBDD0>, <PIL.Image.Image image mode=RGB size=80x120 at 0x14BAFBE90>, <PIL.Image.Image image mode=RGB size=80x120 at 0x14BAFBF50>, <PIL.Image.Image image mode=RGB size=80x120 at 0x14BB04050>, <PIL.Image.Image image mode=RGB size=80x120 at 0x14BB04110>, <PIL.Image.Image image mode=RGB size=80x120 at 0x14BB041D0>, <PIL.Image.Image image mode=RGB size=80x120 at 0x14BB04290>, <PIL.Image.Image image mode=RGB size=80x120 at 0x14BB04350>, <PIL.Image.Image image mode=RGB size=80x120 at 0x14BB04410>, <PIL.Image.Image image mode=RGB size=80x120 at 0x14BB044D0>, <PIL.Image.Image image mode=RGB size=80x120 at 0x14BB04590>, <PIL.Image.Image image mode=RGB size=80x120 at 0x14BB04650>, <PIL.Image.Image image mode=RGB size=80x120 at 0x14BB04710>, <PIL.Image.Image image mode=RGB size=80x120 at 0x14BB047D0>, <PIL.Image.Image image mode=RGB size=80x120 at 0x14BB04890>, <PIL.Image.Image image mode=RGB size=80x120 at 0x14BB04950>, <PIL.Image.Image image mode=RGB size=80x120 at 0x14BB04A10>, <PIL.Image.Image image mode=RGB size=80x120 at 0x14BB04AD0>, <PIL.Image.Image image mode=RGB size=80x120 at 0x14BB04B90>, <PIL.Image.Image image mode=RGB size=80x120 at 0x14BB04C50>, <PIL.Image.Image image mode=RGB size=80x120 at 0x14BB04D10>, <PIL.Image.Image image mode=RGB size=80x120 at 0x14BB04DD0>, <PIL.Image.Image image mode=RGB size=80x120 at 0x14BB04E90>, <PIL.Image.Image image mode=RGB size=80x120 at 0x14BB04F50>, <PIL.Image.Image image mode=RGB size=80x120 at 0x14BB05010>, <PIL.Image.Image image mode=RGB size=80x120 at 0x14BB050D0>, <PIL.Image.Image image mode=RGB size=80x120 at 0x14BB051D0>, <PIL.Image.Image image mode=RGB size=80x120 at 0x14BB05310>, <PIL.Image.Image image mode=RGB size=80x120 at 0x14BB05450>, <PIL.Image.Image image mode=RGB size=80x120 at 0x14BB05550>, <PIL.Image.Image image mode=RGB size=80x120 at 0x14BB05690>, <PIL.Image.Image image mode=RGB size=80x120 at 0x14BB05790>, <PIL.Image.Image image mode=RGB size=80x120 at 0x14BB05890>, <PIL.Image.Image image mode=RGB size=80x120 at 0x14BB05990>, <PIL.Image.Image image mode=RGB size=80x120 at 0x14BB05A90>, <PIL.Image.Image image mode=RGB size=80x120 at 0x14BB05B90>, <PIL.Image.Image image mode=RGB size=80x120 at 0x14BB05CD0>, <PIL.Image.Image image mode=RGB size=80x120 at 0x14BB05E10>, <PIL.Image.Image image mode=RGB size=80x120 at 0x14BB05F10>, <PIL.Image.Image image mode=RGB size=80x120 at 0x14BB06050>, <PIL.Image.Image image mode=RGB size=80x120 at 0x14BB06150>, <PIL.Image.Image image mode=RGB size=80x120 at 0x14BB06290>, <PIL.Image.Image image mode=RGB size=80x120 at 0x14BB06390>, <PIL.Image.Image image mode=RGB size=80x120 at 0x14BB06490>, <PIL.Image.Image image mode=RGB size=80x120 at 0x14BB06590>, <PIL.Image.Image image mode=RGB size=80x120 at 0x14BB06690>, <PIL.Image.Image image mode=RGB size=80x120 at 0x14BB06790>, <PIL.Image.Image image mode=RGB size=80x120 at 0x14BB068D0>, <PIL.Image.Image image mode=RGB size=80x120 at 0x14BB069D0>, <PIL.Image.Image image mode=RGB size=80x120 at 0x14BB06B10>, <PIL.Image.Image image mode=RGB size=80x120 at 0x14BB06C90>, <PIL.Image.Image image mode=RGB size=80x120 at 0x14BB06DD0>, <PIL.Image.Image image mode=RGB size=80x120 at 0x14BB06F10>, <PIL.Image.Image image mode=RGB size=80x120 at 0x14BB07010>, <PIL.Image.Image image mode=RGB size=80x120 at 0x14BB07150>, <PIL.Image.Image image mode=RGB size=80x120 at 0x14BB07290>, <PIL.Image.Image image mode=RGB size=80x120 at 0x14BB07390>, <PIL.Image.Image image mode=RGB size=80x120 at 0x14BB06C10>, <PIL.Image.Image image mode=RGB size=80x120 at 0x14BB07550>, <PIL.Image.Image image mode=RGB size=80x120 at 0x14BB07650>, <PIL.Image.Image image mode=RGB size=80x120 at 0x14BB07750>, <PIL.Image.Image image mode=RGB size=80x120 at 0x14BB07910>, <PIL.Image.Image image mode=RGB size=80x120 at 0x14BB07B10>, <PIL.Image.Image image mode=RGB size=80x120 at 0x14BB07C50>, <PIL.Image.Image image mode=RGB size=80x120 at 0x14BB07E10>, <PIL.Image.Image image mode=RGB size=80x120 at 0x14BB07F50>, <PIL.Image.Image image mode=RGB size=80x120 at 0x14BB08090>, <PIL.Image.Image image mode=RGB size=80x120 at 0x14BB08210>, <PIL.Image.Image image mode=RGB size=80x120 at 0x14BB08310>, <PIL.Image.Image image mode=RGB size=80x120 at 0x14BB084D0>, <PIL.Image.Image image mode=RGB size=80x120 at 0x14BB08690>, <PIL.Image.Image image mode=RGB size=80x120 at 0x14BB08790>, <PIL.Image.Image image mode=RGB size=80x120 at 0x14BB08890>, <PIL.Image.Image image mode=RGB size=80x120 at 0x14BB08990>, <PIL.Image.Image image mode=RGB size=80x120 at 0x14BB08A90>, <PIL.Image.Image image mode=RGB size=80x120 at 0x14BB08BD0>]\n",
      "255\n"
     ]
    }
   ],
   "source": [
    "imageAPI = DiffusionImageAPI(diffusion)\n",
    "timesteps = np.linspace(0, 255, 255).astype(int)\n",
    "print(timesteps)\n",
    "\n",
    "images = imageAPI.get_noisy_images(image, time_steps=timesteps)\n",
    "images[0] = image\n",
    "# save as gif\n",
    "images[0].save(\"test.gif\", save_all=True, append_images=images[1:], duration=100, loop=0)\n",
    "\n",
    "#for i in range(len(images)):\n",
    "#  images[i].save(f\"./diffusion_samples/test_{i}.jpg\")\n",
    "#  plt.subplot(2, 5, i + 1)\n",
    "#  plt.imshow(images[i])\n",
    "#  plt.axis(\"off\")\n"
   ]
  },
  {
   "cell_type": "code",
   "execution_count": 172,
   "metadata": {},
   "outputs": [
    {
     "data": {
      "text/plain": [
       "5"
      ]
     },
     "execution_count": 172,
     "metadata": {},
     "output_type": "execute_result"
    }
   ],
   "source": [
    "len(torch.Size([2, 1, 120, 80, 3]))\n"
   ]
  },
  {
   "cell_type": "code",
   "execution_count": 173,
   "metadata": {},
   "outputs": [
    {
     "ename": "NameError",
     "evalue": "name 'image_copy' is not defined",
     "output_type": "error",
     "traceback": [
      "\u001b[0;31m---------------------------------------------------------------------------\u001b[0m",
      "\u001b[0;31mNameError\u001b[0m                                 Traceback (most recent call last)",
      "\u001b[1;32m/Users/anton/Documents/GitHub/movie-diffusion/testing.ipynb Cell 7\u001b[0m line \u001b[0;36m1\n\u001b[0;32m----> <a href='vscode-notebook-cell:/Users/anton/Documents/GitHub/movie-diffusion/testing.ipynb#X51sZmlsZQ%3D%3D?line=0'>1</a>\u001b[0m image \u001b[39m=\u001b[39m image_copy\n\u001b[1;32m      <a href='vscode-notebook-cell:/Users/anton/Documents/GitHub/movie-diffusion/testing.ipynb#X51sZmlsZQ%3D%3D?line=1'>2</a>\u001b[0m image \u001b[39m=\u001b[39m torch\u001b[39m.\u001b[39mfrom_numpy(np\u001b[39m.\u001b[39marray(image))\n\u001b[1;32m      <a href='vscode-notebook-cell:/Users/anton/Documents/GitHub/movie-diffusion/testing.ipynb#X51sZmlsZQ%3D%3D?line=2'>3</a>\u001b[0m image \u001b[39m=\u001b[39m diffusion\u001b[39m.\u001b[39mnormalize_image(image)\n",
      "\u001b[0;31mNameError\u001b[0m: name 'image_copy' is not defined"
     ]
    }
   ],
   "source": [
    "image = image_copy\n",
    "image = torch.from_numpy(np.array(image))\n",
    "image = diffusion.normalize_image(image)\n",
    "t = diffusion.sample_time_steps(1)\n",
    "print(t)\n",
    "image = diffusion.apply_noise(image, t)\n",
    "imageAPI.tensor_to_image(diffusion.denormalize_image(image.squeeze(0)))\n"
   ]
  },
  {
   "cell_type": "code",
   "execution_count": null,
   "metadata": {},
   "outputs": [],
   "source": []
  }
 ],
 "metadata": {
  "kernelspec": {
   "display_name": "movie-diffusion",
   "language": "python",
   "name": "python3"
  },
  "language_info": {
   "codemirror_mode": {
    "name": "ipython",
    "version": 3
   },
   "file_extension": ".py",
   "mimetype": "text/x-python",
   "name": "python",
   "nbconvert_exporter": "python",
   "pygments_lexer": "ipython3",
   "version": "3.11.5"
  }
 },
 "nbformat": 4,
 "nbformat_minor": 2
}
